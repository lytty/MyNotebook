{
 "cells": [
  {
   "cell_type": "markdown",
   "metadata": {},
   "source": [
    "# Git 笔记\n",
    "## 1. Git创建版本库\n",
    "- git init， 将当前目录变成Git可以管理的仓库,在当前目录下多了一个.git目录，这个目录是Git来跟踪管理版本库的。\n",
    "- git add, 告诉Git，把文件添加到仓库，e.g. git add readme.txt\n",
    "- git commit, 告诉Git，把文件提交到仓库, e.g. git commit -m \"write a readme file\", -m后面输入的是本次提交的说明\n",
    "- git status, 可以随时掌握工作区的状态\n",
    "- git diff, 查看修改内容\n",
    "\n",
    "## 2. 版本回退\n",
    "- git log， 显示从最近到最远的提交日志，如果嫌输出信息太多，可以加上 --pretty=oneline 参数\n",
    "- 在Git中，用HEAD表示当前版本，上一个版本就是HEAD^,上上一个版本就是HEAD^^，往上100个版本，可写成HEAD~100。\n",
    "- git reset, 版本回退，e.g. git reaet --hard HEAD^\n",
    "- git reflog, 记录你的每一次命令\n",
    "\n",
    "## 3. 工作区和暂存区\n",
    "### 3.1 工作区\n",
    "- 工作区就是电脑里能看到的目录\n",
    "\n",
    "### 3.2 版本库，暂存区\n",
    "- 工作区有一个隐藏目录 .git，这个不算工作区，而是Git版本库，版本库中存了很多东西，其中最重要的就是stage（或者叫index）的暂存区，还有Git为我们自动创建的第一个分组master，以及指向master的一个指针HEAD。"
   ]
  },
  {
   "cell_type": "markdown",
   "metadata": {},
   "source": [
    "- 把文件往Git版本库里添加的时候，分两步执行的，第一，用git add把文件添加进去，实际上就是把文件修改添加到暂存区；第二，用git commit提交修改，实际上就是把暂存区的所有内容提交当前分支，因为版本库创建时，Git自动为我们创建了唯一一个master分支，所以，现在，git commit就是往master分支上提交更改。"
   ]
  },
  {
   "cell_type": "markdown",
   "metadata": {},
   "source": [
    "## 4 管理修改\n"
   ]
  },
  {
   "cell_type": "code",
   "execution_count": null,
   "metadata": {},
   "outputs": [],
   "source": []
  },
  {
   "cell_type": "code",
   "execution_count": null,
   "metadata": {},
   "outputs": [],
   "source": []
  },
  {
   "cell_type": "code",
   "execution_count": null,
   "metadata": {},
   "outputs": [],
   "source": []
  },
  {
   "cell_type": "code",
   "execution_count": null,
   "metadata": {},
   "outputs": [],
   "source": []
  }
 ],
 "metadata": {
  "kernelspec": {
   "display_name": "Python 3",
   "language": "python",
   "name": "python3"
  },
  "language_info": {
   "codemirror_mode": {
    "name": "ipython",
    "version": 3
   },
   "file_extension": ".py",
   "mimetype": "text/x-python",
   "name": "python",
   "nbconvert_exporter": "python",
   "pygments_lexer": "ipython3",
   "version": "3.6.4"
  }
 },
 "nbformat": 4,
 "nbformat_minor": 2
}
