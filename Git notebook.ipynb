{
 "cells": [
  {
   "cell_type": "markdown",
   "metadata": {},
   "source": [
    "# Git 笔记\n",
    "## 1. Git创建版本库\n",
    "- git init， 将当前目录变成Git可以管理的仓库,在当前目录下多了一个.git目录，这个目录是Git来跟踪管理版本库的。\n",
    "- git add, 告诉Git，把文件添加到仓库，e.g. git add readme.txt\n",
    "- git commit, 告诉Git，把文件提交到仓库, e.g. git commit -m \"write a readme file\", -m后面输入的是本次提交的说明\n",
    "- git status, 可以随时掌握工作区的状态\n",
    "- git diff, 查看修改内容\n",
    "\n",
    "## 2. 版本回退\n",
    "- git log， 显示从最近到最远的提交日志，如果嫌输出信息太多，可以加上 --pretty=oneline 参数\n",
    "- 在Git中，用HEAD表示当前版本，上一个版本就是HEAD^,上上一个版本就是HEAD^^，往上100个版本，可写成HEAD~100。\n",
    "- git reset, 版本回退，e.g. git reaet --hard HEAD^\n",
    "- git reflog, 记录你的每一次命令\n",
    "\n",
    "## 3. 工作区和暂存区\n",
    "### 3.1 工作区\n",
    "- 工作区就是电脑里能看到的目录\n",
    "\n",
    "### 3.2 版本库，暂存区\n",
    "- 工作区有一个隐藏目录 .git，这个不算工作区，而是Git版本库，版本库中存了很多东西，其中最重要的就是stage（或者叫index）的暂存区，还有Git为我们自动创建的第一个分组master，以及指向master的一个指针HEAD。"
   ]
  },
  {
   "cell_type": "markdown",
   "metadata": {},
   "source": [
    "- 把文件往Git版本库里添加的时候，分两步执行的，第一，用git add把文件添加进去，实际上就是把文件修改添加到暂存区；第二，用git commit提交修改，实际上就是把暂存区的所有内容提交当前分支，因为版本库创建时，Git自动为我们创建了唯一一个master分支，所以，现在，git commit就是往master分支上提交更改。"
   ]
  },
  {
   "cell_type": "markdown",
   "metadata": {},
   "source": [
    "## 4. 管理修改\n",
    "- Git跟踪并管理的是修改，而非文件，每次修改，如果不用 git add 到暂存区，那就不会加入到 commit 中\n",
    "\n",
    "## 5. 撤销修改\n",
    "- git checkout -- file， 可以丢弃工作区的修改， 有两种情况， 第一， 文件修改后还没有被放到暂存区，现在，撤销修改就回到和版本库一模一样的状态；第二，文件修改已经添加到暂存区，又做了修改，现在，撤销修改就回到添加到暂存区后的状态；总之，就是让这个文件回到最近一次git commit或git add时的状态。\n",
    "- git reset HEAD file， 可以把暂存区的修改撤销掉，重新放回工作区， git reset 命令既可以回退版本，也可以把暂存区的修改会退到工作区，当我们使用HEAD时，表示最新的版本。\n",
    "\n",
    "## 6. 删除文件\n",
    "- git rm file， 从版本库中删除文件\n",
    "- git checkout -- file， 用版本库里的版本替换工作区的版本，无论工作区是修改还是删除，都可以‘一键还原’"
   ]
  },
  {
   "cell_type": "code",
   "execution_count": null,
   "metadata": {},
   "outputs": [],
   "source": []
  },
  {
   "cell_type": "code",
   "execution_count": null,
   "metadata": {},
   "outputs": [],
   "source": []
  },
  {
   "cell_type": "code",
   "execution_count": null,
   "metadata": {},
   "outputs": [],
   "source": []
  },
  {
   "cell_type": "code",
   "execution_count": null,
   "metadata": {},
   "outputs": [],
   "source": []
  },
  {
   "cell_type": "code",
   "execution_count": null,
   "metadata": {},
   "outputs": [],
   "source": []
  },
  {
   "cell_type": "code",
   "execution_count": null,
   "metadata": {},
   "outputs": [],
   "source": []
  },
  {
   "cell_type": "code",
   "execution_count": null,
   "metadata": {},
   "outputs": [],
   "source": []
  },
  {
   "cell_type": "code",
   "execution_count": null,
   "metadata": {},
   "outputs": [],
   "source": []
  },
  {
   "cell_type": "code",
   "execution_count": null,
   "metadata": {},
   "outputs": [],
   "source": []
  },
  {
   "cell_type": "code",
   "execution_count": null,
   "metadata": {},
   "outputs": [],
   "source": []
  },
  {
   "cell_type": "code",
   "execution_count": null,
   "metadata": {},
   "outputs": [],
   "source": []
  }
 ],
 "metadata": {
  "kernelspec": {
   "display_name": "Python 3",
   "language": "python",
   "name": "python3"
  },
  "language_info": {
   "codemirror_mode": {
    "name": "ipython",
    "version": 3
   },
   "file_extension": ".py",
   "mimetype": "text/x-python",
   "name": "python",
   "nbconvert_exporter": "python",
   "pygments_lexer": "ipython3",
   "version": "3.4.3"
  }
 },
 "nbformat": 4,
 "nbformat_minor": 2
}
