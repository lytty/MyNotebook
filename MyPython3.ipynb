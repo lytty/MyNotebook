{
 "cells": [
  {
   "cell_type": "markdown",
   "metadata": {},
   "source": [
    "# 知识点\n",
    "\n",
    "1. 列表字符串反转\n",
    "    - [::-1], reversed(), reverse()"
   ]
  },
  {
   "cell_type": "code",
   "execution_count": 7,
   "metadata": {},
   "outputs": [
    {
     "name": "stdout",
     "output_type": "stream",
     "text": [
      "[6, 1, 5, 3] nibiah\n",
      "[6, 1, 5, 3]\n",
      "[6, 1, 5, 3]\n"
     ]
    }
   ],
   "source": [
    "a, b = [3, 5, 1, 6], 'haibin'\n",
    "print(a[::-1], b[::-1])\n",
    "print(list(reversed(a)))\n",
    "a.reverse() #不返回值，字符串没有该用法\n",
    "print(a)"
   ]
  },
  {
   "cell_type": "markdown",
   "metadata": {},
   "source": [
    "2. 元组\n",
    "    - 如果一个元组只有一个元素，应该在该元素后加一个逗号，a = (3,)"
   ]
  },
  {
   "cell_type": "markdown",
   "metadata": {},
   "source": [
    "3. 浅拷贝copy与深拷贝deepcopy\n",
    "    - python 只存储基本类型的数据，如 int、str，对于不是基础类型的，比如字典的值是列表，python不会在被复制的那个对象中重新存储，而是用引用的方式，指向原来的值。"
   ]
  },
  {
   "cell_type": "code",
   "execution_count": 8,
   "metadata": {},
   "outputs": [
    {
     "name": "stdout",
     "output_type": "stream",
     "text": [
      "5 1458531520 1458531520\n"
     ]
    }
   ],
   "source": [
    "#1\n",
    "a = 5\n",
    "b = a\n",
    "print (b, id(a), id(b))"
   ]
  },
  {
   "cell_type": "code",
   "execution_count": 9,
   "metadata": {},
   "outputs": [
    {
     "name": "stdout",
     "output_type": "stream",
     "text": [
      "{'name': 'haibin', 'lang': 'python'} 1855737658608 1855737658608\n"
     ]
    }
   ],
   "source": [
    "#2\n",
    "ad = {'name':'haibin', 'lang':'python'}\n",
    "bd = ad\n",
    "print (bd, id(ad), id(bd))"
   ]
  },
  {
   "cell_type": "code",
   "execution_count": 10,
   "metadata": {},
   "outputs": [
    {
     "name": "stdout",
     "output_type": "stream",
     "text": [
      "{'name': 'haibin', 'lang': 'python'} 1855737658608 1855737658320\n"
     ]
    }
   ],
   "source": [
    "#3\n",
    "cd = ad.copy()\n",
    "print(cd, id(ad), id(cd))"
   ]
  },
  {
   "cell_type": "code",
   "execution_count": 11,
   "metadata": {},
   "outputs": [
    {
     "data": {
      "text/plain": [
       "({'name': 'niannian', 'lang': 'python'}, {'name': 'haibin', 'lang': 'python'})"
      ]
     },
     "execution_count": 11,
     "metadata": {},
     "output_type": "execute_result"
    }
   ],
   "source": [
    "#4\n",
    "cd['name'] = 'niannian'\n",
    "cd , ad"
   ]
  },
  {
   "cell_type": "code",
   "execution_count": 14,
   "metadata": {},
   "outputs": [
    {
     "data": {
      "text/plain": [
       "({'name': 'qiwsir', 'lang': ['python', 'java', 'c']},\n",
       " 1855737908968,\n",
       " 1855737908680)"
      ]
     },
     "execution_count": 14,
     "metadata": {},
     "output_type": "execute_result"
    }
   ],
   "source": [
    "#5\n",
    "x = {'name': 'qiwsir', 'lang': ['python', 'java', 'c']}\n",
    "y = x.copy()\n",
    "y, id(x), id(y)"
   ]
  },
  {
   "cell_type": "code",
   "execution_count": 15,
   "metadata": {},
   "outputs": [
    {
     "data": {
      "text/plain": [
       "({'name': 'qiwsir', 'lang': ['python', 'java']},\n",
       " {'name': 'qiwsir', 'lang': ['python', 'java']})"
      ]
     },
     "execution_count": 15,
     "metadata": {},
     "output_type": "execute_result"
    }
   ],
   "source": [
    "y['lang'].remove('c')\n",
    "y, x"
   ]
  },
  {
   "cell_type": "code",
   "execution_count": 17,
   "metadata": {},
   "outputs": [
    {
     "data": {
      "text/plain": [
       "(1855737259848, 1855737259848)"
      ]
     },
     "execution_count": 17,
     "metadata": {},
     "output_type": "execute_result"
    }
   ],
   "source": [
    "id(y['lang']), id(x['lang'])"
   ]
  },
  {
   "cell_type": "code",
   "execution_count": 18,
   "metadata": {},
   "outputs": [
    {
     "data": {
      "text/plain": [
       "({'name': 'qiwsir', 'lang': ['python', 'java']},\n",
       " 1855737908968,\n",
       " 1855737963864,\n",
       " 1855737259848,\n",
       " 1855737260936)"
      ]
     },
     "execution_count": 18,
     "metadata": {},
     "output_type": "execute_result"
    }
   ],
   "source": [
    "#6\n",
    "import copy\n",
    "\n",
    "z = copy.deepcopy(x)\n",
    "z, id(x), id(z), id(x['lang']), id(z['lang'])"
   ]
  },
  {
   "cell_type": "markdown",
   "metadata": {},
   "source": [
    "4. 获取字典中的值"
   ]
  },
  {
   "cell_type": "code",
   "execution_count": 19,
   "metadata": {},
   "outputs": [
    {
     "data": {
      "text/plain": [
       "['python', 'java']"
      ]
     },
     "execution_count": 19,
     "metadata": {},
     "output_type": "execute_result"
    }
   ],
   "source": [
    "#1\n",
    "z['lang']"
   ]
  },
  {
   "cell_type": "code",
   "execution_count": 20,
   "metadata": {},
   "outputs": [
    {
     "data": {
      "text/plain": [
       "['python', 'java']"
      ]
     },
     "execution_count": 20,
     "metadata": {},
     "output_type": "execute_result"
    }
   ],
   "source": [
    "#2\n",
    "z.get('lang')"
   ]
  },
  {
   "cell_type": "code",
   "execution_count": 1,
   "metadata": {},
   "outputs": [
    {
     "ename": "NameError",
     "evalue": "name 'z' is not defined",
     "output_type": "error",
     "traceback": [
      "\u001b[1;31m---------------------------------------------------------------------------\u001b[0m",
      "\u001b[1;31mNameError\u001b[0m                                 Traceback (most recent call last)",
      "\u001b[1;32m<ipython-input-1-d373cc462345>\u001b[0m in \u001b[0;36m<module>\u001b[1;34m()\u001b[0m\n\u001b[0;32m      1\u001b[0m \u001b[1;31m#3 当字典中没有该键值时，get返回None, []返回错误\u001b[0m\u001b[1;33m\u001b[0m\u001b[1;33m\u001b[0m\u001b[0m\n\u001b[1;32m----> 2\u001b[1;33m \u001b[0mprint\u001b[0m\u001b[1;33m(\u001b[0m\u001b[0mz\u001b[0m\u001b[1;33m.\u001b[0m\u001b[0mget\u001b[0m\u001b[1;33m(\u001b[0m\u001b[1;34m'xh'\u001b[0m\u001b[1;33m)\u001b[0m\u001b[1;33m)\u001b[0m\u001b[1;33m\u001b[0m\u001b[0m\n\u001b[0m\u001b[0;32m      3\u001b[0m \u001b[0mprint\u001b[0m\u001b[1;33m(\u001b[0m\u001b[0mz\u001b[0m\u001b[1;33m[\u001b[0m\u001b[1;34m'xh'\u001b[0m\u001b[1;33m]\u001b[0m\u001b[1;33m)\u001b[0m\u001b[1;33m\u001b[0m\u001b[0m\n",
      "\u001b[1;31mNameError\u001b[0m: name 'z' is not defined"
     ]
    }
   ],
   "source": [
    "#3 当字典中没有该键值时，get返回None, []返回错误\n",
    "print(z.get('xh'))\n",
    "print(z['xh'])"
   ]
  },
  {
   "cell_type": "markdown",
   "metadata": {},
   "source": [
    "- 遍历字典方法"
   ]
  },
  {
   "cell_type": "code",
   "execution_count": 4,
   "metadata": {},
   "outputs": [
    {
     "name": "stdout",
     "output_type": "stream",
     "text": [
      "name: qiwisr\n",
      "lang: python\n",
      "email: qiwiser@gmail.com\n",
      "website: www.qiwiser.com\n"
     ]
    }
   ],
   "source": [
    "a_dict = {'name':'qiwisr', 'lang':'python', 'email':'qiwiser@gmail.com', 'website':'www.qiwiser.com'}\n",
    "\n",
    "#1\n",
    "for k in a_dict:\n",
    "    print('{0}: {1}'.format(k, a_dict[k]))"
   ]
  },
  {
   "cell_type": "code",
   "execution_count": 5,
   "metadata": {},
   "outputs": [
    {
     "name": "stdout",
     "output_type": "stream",
     "text": [
      "name: qiwisr\n",
      "lang: python\n",
      "email: qiwiser@gmail.com\n",
      "website: www.qiwiser.com\n"
     ]
    }
   ],
   "source": [
    "#2 建议用此方法\n",
    "for k,v in a_dict.items():\n",
    "    print('{0}: {1}'.format(k, v))"
   ]
  },
  {
   "cell_type": "code",
   "execution_count": 8,
   "metadata": {},
   "outputs": [
    {
     "name": "stdout",
     "output_type": "stream",
     "text": [
      "name: qiwisr\n",
      "lang: python\n",
      "email: qiwiser@gmail.com\n",
      "website: www.qiwiser.com\n"
     ]
    }
   ],
   "source": [
    "#3\n",
    "for k in a_dict.keys():\n",
    "    print('{0}: {1}'.format(k, a_dict[k]))"
   ]
  },
  {
   "cell_type": "markdown",
   "metadata": {},
   "source": [
    " - \n",
    "     - 字典生成"
   ]
  },
  {
   "cell_type": "code",
   "execution_count": 31,
   "metadata": {},
   "outputs": [
    {
     "data": {
      "text/plain": [
       "{0: 0, 1: 1, 2: 4, 3: 9, 4: 16, 5: 25, 6: 36, 7: 49, 8: 64, 9: 81}"
      ]
     },
     "execution_count": 31,
     "metadata": {},
     "output_type": "execute_result"
    }
   ],
   "source": [
    "s = {number: number**2 for number in range(10)}\n",
    "s"
   ]
  },
  {
   "cell_type": "markdown",
   "metadata": {},
   "source": [
    "- \n",
    "    - 常规字典是无序的，如果需要使用可保存添加顺序的的字典，可使用如下模块：\n",
    "        `from collections import OrderedDict`"
   ]
  },
  {
   "cell_type": "markdown",
   "metadata": {},
   "source": [
    "\n",
    "\n",
    "\n",
    "5. Python3 与 Python2\n",
    "    - Python3 打破了对Python2的向后兼容\n",
    "    - 语法变化：\n",
    "        - print不再是一个语句而是一个函数，必须加上括号\n",
    "        - 捕获异常的语法由except exc, var改为except exc as var\n",
    "        - 弃用比较运算符<>， 改用！=\n",
    "        - from module import * 现在只能用于模块，不能用在函数中\n",
    "        - 现在from .[module] import name 是相对导入的唯一正确的语法。所有不以点字符开头的导入都被当做绝对导入\n",
    "        - sorted函数与列表的sort方法不再接受cmp参数，应该用key参数来代替\n",
    "        - 整数表达式返回的是浮点数，取整运算可以用//运算符，这样做的好处是浮点数也可以用这个运算符\n",
    "    - 标准款的变化：\n",
    "\n",
    "\n"
   ]
  },
  {
   "cell_type": "markdown",
   "metadata": {},
   "source": [
    "6. - Django 项目创建\n",
    "       - django-admin startproject mysite\n",
    "       - mkdir mysite; cd mysite; django-admin startproject mysite .\n",
    "    \n",
    "   - Django 应用创建\n",
    "       - django-admin startapp blog\n",
    "       - python manage.py startapp blog"
   ]
  },
  {
   "cell_type": "markdown",
   "metadata": {},
   "source": [
    "7. 特殊函数使用\n",
    "    - zip：内置函数，将序列对应的元素依次组成元组，并单做列表中的元素\n",
    "        - 注意，对zip（）函数返回的结果再次调用zip（），可以将其恢复原状"
   ]
  },
  {
   "cell_type": "code",
   "execution_count": 22,
   "metadata": {},
   "outputs": [
    {
     "name": "stdout",
     "output_type": "stream",
     "text": [
      "[('h', 'x'), ('a', 'i'), ('i', 'a'), ('b', 'o'), ('i', 'm'), ('n', 'i')]\n",
      "('haibin',)\n",
      "('xiaomin',)\n"
     ]
    }
   ],
   "source": [
    "a = 'haibin'\n",
    "b = 'xiaomin'\n",
    "print(list(zip(a, b)))\n",
    "for item in zip(*zip([a], [b])):\n",
    "    print(item)"
   ]
  },
  {
   "cell_type": "markdown",
   "metadata": {},
   "source": [
    "- enumerate: 可同时获得元素索引和元素"
   ]
  },
  {
   "cell_type": "code",
   "execution_count": 13,
   "metadata": {},
   "outputs": [
    {
     "name": "stdout",
     "output_type": "stream",
     "text": [
      "Mon is 0\n",
      "Tue is 1\n",
      "Wed is 2\n",
      "Thu is 3\n",
      "Fri is 4\n",
      "Sat is 5\n",
      "Sun is 6\n"
     ]
    }
   ],
   "source": [
    "week = ['Mon', 'Tue', 'Wed', 'Thu', 'Fri', 'Sat', 'Sun']\n",
    "for (i, day) in enumerate(week):\n",
    "    print(day + ' is ' + str(i))"
   ]
  },
  {
   "cell_type": "code",
   "execution_count": 14,
   "metadata": {},
   "outputs": [
    {
     "data": {
      "text/plain": [
       "[(0, 'Mon'),\n",
       " (1, 'Tue'),\n",
       " (2, 'Wed'),\n",
       " (3, 'Thu'),\n",
       " (4, 'Fri'),\n",
       " (5, 'Sat'),\n",
       " (6, 'Sun')]"
      ]
     },
     "execution_count": 14,
     "metadata": {},
     "output_type": "execute_result"
    }
   ],
   "source": [
    "list(enumerate(week))"
   ]
  },
  {
   "cell_type": "code",
   "execution_count": 15,
   "metadata": {},
   "outputs": [
    {
     "data": {
      "text/plain": [
       "[(1, 'Mon'),\n",
       " (2, 'Tue'),\n",
       " (3, 'Wed'),\n",
       " (4, 'Thu'),\n",
       " (5, 'Fri'),\n",
       " (6, 'Sat'),\n",
       " (7, 'Sun')]"
      ]
     },
     "execution_count": 15,
     "metadata": {},
     "output_type": "execute_result"
    }
   ],
   "source": [
    "list(enumerate(week, start=1))"
   ]
  },
  {
   "cell_type": "markdown",
   "metadata": {},
   "source": [
    "- fileinput模块：读取很大的文件时使用"
   ]
  },
  {
   "cell_type": "code",
   "execution_count": 20,
   "metadata": {},
   "outputs": [
    {
     "name": "stdout",
     "output_type": "stream",
     "text": [
      "Help on function input in module fileinput:\n",
      "\n",
      "input(files=None, inplace=False, backup='', bufsize=0, mode='r', openhook=None)\n",
      "    Return an instance of the FileInput class, which can be iterated.\n",
      "    \n",
      "    The parameters are passed to the constructor of the FileInput class.\n",
      "    The returned instance, in addition to being an iterator,\n",
      "    keeps global state for the functions of this module,.\n",
      "\n"
     ]
    }
   ],
   "source": [
    "import fileinput\n",
    "help(fileinput.input)\n",
    "for line in fileinput.input('MyPython2.md', error=False):\n",
    "    print(line)\n"
   ]
  },
  {
   "cell_type": "markdown",
   "metadata": {},
   "source": [
    "8. 在python2中， Unicode需要有u前缀， 在python3.0，仍然可以使用这个前缀，但没有任何语法上的意义，只是为了保证向后兼容， 所有没有前缀的字符串都是Unicode，都是str类型\n",
    "   - 最后同样重要的是，Unicode字符串中包含无法用字节表示的“抽象”文本，因此，如果Unicode字符串没有被编码为二进制数据的话，是无法保存在磁盘中或通过网络发送的。将字符串对象编码为字节序列的方法有两种：\n",
    "       - str.encode(encoding, errors)\n",
    "       - bytes(source, encoding, errors)\n",
    "   - 用类似的方法可以将bytes表示的二进制数据转换成字符串：\n",
    "       - bytes.decode(encoding, errors)\n",
    "       - str(source, encoding, error)"
   ]
  },
  {
   "cell_type": "code",
   "execution_count": 12,
   "metadata": {},
   "outputs": [
    {
     "name": "stdout",
     "output_type": "stream",
     "text": [
      "b'haibin xu' <class 'bytes'>\n",
      "b'haibin xu' <class 'bytes'>\n",
      "haibin xu <class 'str'>\n",
      "haibin xu <class 'str'>\n"
     ]
    }
   ],
   "source": [
    "s = \"haibin xu\"\n",
    "a = s.encode('utf-8', errors='ignore')\n",
    "b = bytes(s, 'utf-8', errors='ignore')\n",
    "print(a, type(a))\n",
    "print(b, type(b))\n",
    "\n",
    "c = a.decode('utf-8', errors='ignore')\n",
    "d = str(b, 'utf-8', errors='ignore')\n",
    "print(c, type(c))\n",
    "print(d, type(d))"
   ]
  },
  {
   "cell_type": "markdown",
   "metadata": {},
   "source": [
    "9. 序列解包"
   ]
  },
  {
   "cell_type": "code",
   "execution_count": 23,
   "metadata": {},
   "outputs": [
    {
     "name": "stdout",
     "output_type": "stream",
     "text": [
      "1 2 3\n"
     ]
    }
   ],
   "source": [
    "f,s,t = 1, 2, 3\n",
    "print(f, s, t)"
   ]
  },
  {
   "cell_type": "code",
   "execution_count": 24,
   "metadata": {},
   "outputs": [
    {
     "name": "stdout",
     "output_type": "stream",
     "text": [
      "1 2 [3, 4]\n"
     ]
    }
   ],
   "source": [
    "f,s,*t = 1, 2, 3, 4\n",
    "print(f, s, t)"
   ]
  },
  {
   "cell_type": "code",
   "execution_count": 25,
   "metadata": {},
   "outputs": [
    {
     "name": "stdout",
     "output_type": "stream",
     "text": [
      "1 [2, 3] 4\n"
     ]
    }
   ],
   "source": [
    "f,*s,t = 1, 2, 3, 4\n",
    "print(f, s, t)"
   ]
  },
  {
   "cell_type": "code",
   "execution_count": 27,
   "metadata": {},
   "outputs": [
    {
     "data": {
      "text/plain": [
       "(1, 2, 3, 4)"
      ]
     },
     "execution_count": 27,
     "metadata": {},
     "output_type": "execute_result"
    }
   ],
   "source": [
    "(a,b),(c,d) = (1, 2), (3,4)\n",
    "a, b, c, d"
   ]
  },
  {
   "cell_type": "markdown",
   "metadata": {},
   "source": [
    "10. 集合\n",
    "    - set()，可变的，无序的，有限的集合，其元素是惟一的，不可变的对象\n",
    "    - frozenset(),一种不可变的、可哈希的、无序集合，其元素是唯一的，不可变的对象\n",
    "\n"
   ]
  },
  {
   "cell_type": "markdown",
   "metadata": {},
   "source": [
    "11. Python 特性\n",
    "    - 迭代器, 当遍历完时，会引发一个StopIteration异常"
   ]
  },
  {
   "cell_type": "code",
   "execution_count": 33,
   "metadata": {},
   "outputs": [
    {
     "name": "stdout",
     "output_type": "stream",
     "text": [
      "a\n",
      "b\n"
     ]
    }
   ],
   "source": [
    "i = iter('abc')\n",
    "print(next(i))\n",
    "print(next(i))"
   ]
  },
  {
   "cell_type": "markdown",
   "metadata": {},
   "source": [
    "    - yield语句\n",
    "        - 生成器可以让编写返回元素序列的函数所需的代码变得简单、高效。可以暂停函数并返回一个中间结果。该函数会保存执行上的上下文，稍后在必要时可以恢复。"
   ]
  },
  {
   "cell_type": "code",
   "execution_count": 34,
   "metadata": {},
   "outputs": [
    {
     "name": "stdout",
     "output_type": "stream",
     "text": [
      "1\n",
      "1\n",
      "2\n"
     ]
    }
   ],
   "source": [
    "def fibonacci():\n",
    "    a, b = 0, 1\n",
    "    while True:\n",
    "        yield b\n",
    "        a, b = b, a + b\n",
    "\n",
    "fib = fibonacci()\n",
    "print(next(fib))\n",
    "print(next(fib))\n",
    "print(next(fib))"
   ]
  },
  {
   "cell_type": "code",
   "execution_count": 35,
   "metadata": {},
   "outputs": [
    {
     "data": {
      "text/plain": [
       "[3, 5, 8, 13, 21, 34, 55, 89, 144, 233]"
      ]
     },
     "execution_count": 35,
     "metadata": {},
     "output_type": "execute_result"
    }
   ],
   "source": [
    "[next(fib) for i in range(10)]"
   ]
  },
  {
   "cell_type": "markdown",
   "metadata": {},
   "source": [
    "        - 另一个重要特性：利用next函数与调用的代码进行交互，yield变成了一个表达式，而值可以通过send方法来传递"
   ]
  },
  {
   "cell_type": "code",
   "execution_count": 36,
   "metadata": {},
   "outputs": [
    {
     "name": "stdout",
     "output_type": "stream",
     "text": [
      "Please tell me your problem\n"
     ]
    }
   ],
   "source": [
    "def psy():\n",
    "    print('Please tell me your problem')\n",
    "    while True:\n",
    "        answer = (yield)\n",
    "        if answer is not None:\n",
    "            if answer.endswith('?'):\n",
    "                print(\"Don't ask your self too much questions\")\n",
    "            elif 'good' in answer:\n",
    "                print(\"Ahh that's good\")\n",
    "            elif 'bad' in answer:\n",
    "                print(\"Don't be so neg\")\n",
    "\n",
    "free = psy()\n",
    "next(free)"
   ]
  },
  {
   "cell_type": "code",
   "execution_count": 37,
   "metadata": {},
   "outputs": [
    {
     "name": "stdout",
     "output_type": "stream",
     "text": [
      "Don't be so neg\n"
     ]
    }
   ],
   "source": [
    "free.send('I feel bad')"
   ]
  },
  {
   "cell_type": "markdown",
   "metadata": {},
   "source": [
    "    - 装饰器"
   ]
  },
  {
   "cell_type": "code",
   "execution_count": 4,
   "metadata": {},
   "outputs": [
    {
     "name": "stdout",
     "output_type": "stream",
     "text": [
      "foo\n",
      "foo\n"
     ]
    }
   ],
   "source": [
    "def repeat(number=3):\n",
    "    def actual_decorateor(function):\n",
    "        def wrapper(*args, **kwargs):\n",
    "            result = None\n",
    "            for _ in range(number):\n",
    "                result = function(*args, **kwargs)\n",
    "            return result\n",
    "        return wrapper\n",
    "    return actual_decorateor\n",
    "\n",
    "@repeat(2)\n",
    "def foo():\n",
    "    print(\"foo\")\n",
    "\n",
    "foo()"
   ]
  },
  {
   "cell_type": "code",
   "execution_count": null,
   "metadata": {},
   "outputs": [],
   "source": []
  },
  {
   "cell_type": "code",
   "execution_count": null,
   "metadata": {},
   "outputs": [],
   "source": []
  },
  {
   "cell_type": "code",
   "execution_count": null,
   "metadata": {},
   "outputs": [],
   "source": []
  },
  {
   "cell_type": "code",
   "execution_count": null,
   "metadata": {},
   "outputs": [],
   "source": []
  }
 ],
 "metadata": {
  "kernelspec": {
   "display_name": "Python 3",
   "language": "python",
   "name": "python3"
  },
  "language_info": {
   "codemirror_mode": {
    "name": "ipython",
    "version": 3
   },
   "file_extension": ".py",
   "mimetype": "text/x-python",
   "name": "python",
   "nbconvert_exporter": "python",
   "pygments_lexer": "ipython3",
   "version": "3.7.0"
  }
 },
 "nbformat": 4,
 "nbformat_minor": 2
}
