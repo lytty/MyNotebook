{
 "cells": [
  {
   "cell_type": "markdown",
   "metadata": {},
   "source": [
    "# Python3\n",
    "\n",
    "## Python 简介\n",
    "   \n",
    "### 定位： \n",
    "   - 优雅、明确、简单\n",
    "### 应用： \n",
    "   - 网络应用，包括网站，后台服务等待； 许多日常需要的小工具，包括管理员需要的脚本任务等等\n",
    "### 缺点：\n",
    "   - 运行速度慢， 和C程序（编译型语言）相比非常慢， 因为Python是解释型语言，你的代码在执行时会一行一行地翻译成CPU能理解的机器码，这个翻译过程非常耗时，所以很慢，而C程序是运行前直接编译成CPU能执行的机器码，所以很快。 但大量的应用程序不需要这么快的运行速度，因为用户根本感觉不出来。\n",
    "   - 代码不能加密\n",
    "\n",
    "## Python 解释器\n",
    "\n",
    "   - 我们编写Python代码时， 实际上得到的是一个包含Python代码的以.py为扩展名的文本文件， 要运行代码，就需要使用Python解释器去执行该.py文件\n",
    "   - 整个Python语言从规范到解释器都是开源的，理论上，只要水平高，任何人都可以编写Python解释器来执行Python代码。\n",
    "### CPython\n",
    "   - 当我们从官网上下载并安装号Python后，我们就直接获得了一个官方版本的解释器：CPython， 这个解释器是用C语言开发的，所以叫做CPython，在命令行下运行Python就是是启动CPython解释器。\n",
    "   - CPython是使用最广的Python解释器。\n",
    "### IPython\n",
    "   - IPython是基于CPython之上的一个交互式解释器， 其在交互式上有所增强。\n",
    "   - CPython使用>>>作为提示符，而IPython用In[序号]：作为提示符\n",
    "### PyPy\n",
    "   - PyPy才有JIT技术， 对Python代码进行动态编译（非解释），所以可以显著提高Python代码的执行速度\n",
    "### JPython\n",
    "   - 运行在Java平台上的解释器，可以直接把Python代码编译成Java字节码执行\n",
    "### IronPython\n",
    "   - 运行在微软.Net平台上的解释器， 可以直接把Python代码编译成.Ner字节码 \n",
    "\n",
    "\n",
    "\n",
    "\n",
    "\n",
    "\n",
    "\n",
    "\n"
   ]
  },
  {
   "cell_type": "markdown",
   "metadata": {},
   "source": [
    "## 使用文本编辑器\n",
    "- 推荐使用Sublime Text， Notepad++， 绝对不能使用Word（保存的不是纯文本文件）和记事本（会在文件开始的地方加上几个特殊字符）\n",
    "\n",
    "## 输入和输出\n",
    "- print（）， input（）"
   ]
  },
  {
   "cell_type": "markdown",
   "metadata": {},
   "source": [
    "## Python 基础\n",
    "### 数据类型和变量\n",
    "- 在Python中能够处理的数据类型有以下几种\n",
    "#### 整数\n",
    "- 正、负整数， 二进制、八进制、十六进制等表示整数\n",
    "#### 浮点数\n",
    "- 同整数相同， Python中整数与浮点数没有大小限制， 只是浮点数超过一定范围就直接表示为inf(无限大)\n",
    "#### 字符串\n",
    "- 以单引号‘或双引号“括起来的任意文本， 如果字符串内包含’或”， 使用转义字符\\来标识, \\n表示换行， \\t表示制表符， \\\\表示\\"
   ]
  },
  {
   "cell_type": "code",
   "execution_count": 4,
   "metadata": {
    "scrolled": true
   },
   "outputs": [
    {
     "name": "stdout",
     "output_type": "stream",
     "text": [
      "I 'm \"OK\"!\n",
      "abc\n"
     ]
    }
   ],
   "source": [
    "print('I \\'m \\\"OK\\\"!')\n",
    "print('abc')"
   ]
  },
  {
   "cell_type": "markdown",
   "metadata": {},
   "source": [
    "- Python 允许使用r''表示''内部的字符串默认不转义\n",
    "- 如果字符串内部有很多换行，用\\n写在一行不好阅读，为了简化， Python允许用'''...'''或\"\"\"...\"\"\"的格式表示多行内容"
   ]
  },
  {
   "cell_type": "code",
   "execution_count": 6,
   "metadata": {},
   "outputs": [
    {
     "name": "stdout",
     "output_type": "stream",
     "text": [
      "line0\n",
      "lie1\n",
      "line2\n"
     ]
    }
   ],
   "source": [
    "print('''line0\n",
    "lie1\n",
    "line2''')"
   ]
  },
  {
   "cell_type": "markdown",
   "metadata": {},
   "source": [
    "#### 布尔值\n",
    "- True, False\n",
    "- 布尔值可以用and， or， not运算\n",
    "\n",
    "#### 空值\n",
    "- None\n",
    "\n",
    "#### 变量\n",
    "- 在Python中，可以把任意数据类型赋值给变量， 同一变量可以反复赋值，而且可以是不同类型的变量\n",
    "- 这种变量本身类型不固定的语言称之为动态语言， 与之对应的是静态语言， 静态语言在定义变量时必须指定变量类型。\n",
    "\n",
    "#### 常量\n",
    "- 在Python中， 通常用全部大写的变量名表示常量"
   ]
  },
  {
   "cell_type": "code",
   "execution_count": 9,
   "metadata": {},
   "outputs": [],
   "source": [
    "PI = 3.1415926"
   ]
  },
  {
   "cell_type": "markdown",
   "metadata": {},
   "source": [
    "- 事实上， PI仍然是一个变量， Python没有任何机制保证PI不会被改变， 所以， 用全部大写的变量名表示常量只是一个习惯上的用法\n",
    "\n",
    "\n",
    "## 字符串和编码\n",
    "\n",
    "### 字符编码\n",
    "- Unicode， 把所有语言都统一到一套编码里，这样避免了乱码问题，最常用的是用两个字节表示一个字符（对于非常偏僻的字符，就需要用4个字节）\n",
    "- UTF-8， Unicode码避免了乱码问题， 但是，同时也增加了存储空间的占用，在存储和传输上是否不划算，所以针对该问题，出现了”可变长编码“的UTF-8编码， 该编码把一个Unicode字符根据不同的数字大小编码成1-6个字节，常用英文字母被编码成1个字节，汉字通常是3个字节，只有生僻的字符才会被编码成4-6个字节。\n",
    "\n",
    "### 字符串\n",
    "- 在Python3版本中， 字符串是以Unicode编码的， 也就是说，Python的字符串支持对语言。"
   ]
  },
  {
   "cell_type": "code",
   "execution_count": 12,
   "metadata": {},
   "outputs": [
    {
     "name": "stdout",
     "output_type": "stream",
     "text": [
      "我里面有中文和str\n"
     ]
    }
   ],
   "source": [
    "print('我里面有中文和str')"
   ]
  },
  {
   "cell_type": "markdown",
   "metadata": {},
   "source": [
    "- 对于单个字符的编码，Python提供了ord()函数获取字符的整数表示，chr()函数把编码转换成对应的字符："
   ]
  },
  {
   "cell_type": "code",
   "execution_count": 14,
   "metadata": {},
   "outputs": [
    {
     "data": {
      "text/plain": [
       "'文'"
      ]
     },
     "execution_count": 14,
     "metadata": {},
     "output_type": "execute_result"
    }
   ],
   "source": [
    "ord('A')"
   ]
  },
  {
   "cell_type": "code",
   "execution_count": 15,
   "metadata": {},
   "outputs": [
    {
     "data": {
      "text/plain": [
       "20013"
      ]
     },
     "execution_count": 15,
     "metadata": {},
     "output_type": "execute_result"
    }
   ],
   "source": [
    "ord('中')"
   ]
  },
  {
   "cell_type": "code",
   "execution_count": 16,
   "metadata": {},
   "outputs": [
    {
     "data": {
      "text/plain": [
       "'文'"
      ]
     },
     "execution_count": 16,
     "metadata": {},
     "output_type": "execute_result"
    }
   ],
   "source": [
    "chr(25991)"
   ]
  },
  {
   "cell_type": "markdown",
   "metadata": {},
   "source": [
    "- Python的字符串类型是str， 在内存中以Unicode表示， Python对bytes类型的数据用b前缀的单引号或双引号表示: x = b'ABC'\n",
    "- 以Unicode表示的str通过encode()方法可以编码为指定的bytes"
   ]
  },
  {
   "cell_type": "code",
   "execution_count": 19,
   "metadata": {},
   "outputs": [
    {
     "name": "stdout",
     "output_type": "stream",
     "text": [
      "b'ABC'\n",
      "b'\\xe4\\xb8\\xad\\xe6\\x96\\x87'\n"
     ]
    }
   ],
   "source": [
    "print('ABC'.encode('ascii'))\n",
    "print('中文'.encode('utf-8'))"
   ]
  },
  {
   "cell_type": "markdown",
   "metadata": {},
   "source": [
    "- 在bytes中，无法显示为ASCII字符的字节，用\\x##显示\n",
    "- 要把bytes变为str，就需要用decode()方法，如果bytes中包含无法解码的字节，decode()方法会报错，如果只有一小部分无效的字节，可以传入errors='ignore'忽略错误的字节："
   ]
  },
  {
   "cell_type": "code",
   "execution_count": 21,
   "metadata": {},
   "outputs": [
    {
     "name": "stdout",
     "output_type": "stream",
     "text": [
      "ABC\n",
      "中文\n"
     ]
    }
   ],
   "source": [
    "print(b'ABC'.decode('ascii'))\n",
    "print(b'\\xe4\\xb8\\xad\\xe6\\x96\\x87'.decode('utf-8'))"
   ]
  },
  {
   "cell_type": "markdown",
   "metadata": {},
   "source": [
    "- len()函数及时的是str的字符数，如果换成bytes,len()函数就计算字节数\n",
    "- 在操作字符串时，经常遇到str和bytes的互相转换，为了避免乱码问题，应当始终坚持使用UTF-8编码对str和bytes进行转换\n",
    "- 由于Python源代码也是一个文本文件，所以，当你的源代码中包含中文的时候，在保存源代码时，就需要务必指定保存为UTF-8编码。当Python解释器读取源代码时，为了让它按UTF-8编码读取，我们通常在文件开头写上如下两行："
   ]
  },
  {
   "cell_type": "code",
   "execution_count": 1,
   "metadata": {},
   "outputs": [],
   "source": [
    "#!/usr/bin/env python3 告诉Linux/OS X系统，这是一个Python可执行程序，Windows系统会忽略这个注释\n",
    "# -*- coding: utf-8 -*- 告诉Python解释器，按照UTF-8编码读取源代码，否则，你在源代码中写的中文输出可能会有乱码。"
   ]
  },
  {
   "cell_type": "markdown",
   "metadata": {},
   "source": [
    "### 格式化\n",
    "- 在Python中，格式化方式和C语言一致，用%实现"
   ]
  },
  {
   "cell_type": "code",
   "execution_count": 2,
   "metadata": {},
   "outputs": [
    {
     "data": {
      "text/plain": [
       "'Hello, laopo'"
      ]
     },
     "execution_count": 2,
     "metadata": {},
     "output_type": "execute_result"
    }
   ],
   "source": [
    "'Hello, %s' % 'laopo'"
   ]
  },
  {
   "cell_type": "code",
   "execution_count": 3,
   "metadata": {},
   "outputs": [
    {
     "data": {
      "text/plain": [
       "'Hi, niannian, my baby 3 years old'"
      ]
     },
     "execution_count": 3,
     "metadata": {},
     "output_type": "execute_result"
    }
   ],
   "source": [
    "'Hi, %s, my baby %d years old' %('niannian', 3)"
   ]
  },
  {
   "cell_type": "markdown",
   "metadata": {},
   "source": [
    "- 占位符  %d --> 整数，%f --> 浮点数， %s --> 字符串，%x --> 十六进制整数， 如果不太确定应该用什么，%s永远起作用，它会把任何数据类型转换为字符串，当字符串中的%是一个普通字符，此时就需要转义，用%%来表示一个%\n",
    "\n",
    "- format()，另一种格式化字符串的方法"
   ]
  },
  {
   "cell_type": "code",
   "execution_count": 4,
   "metadata": {},
   "outputs": [
    {
     "data": {
      "text/plain": [
       "'Hello, baby, 你真漂亮'"
      ]
     },
     "execution_count": 4,
     "metadata": {},
     "output_type": "execute_result"
    }
   ],
   "source": [
    "'Hello, {}, 你真漂亮,'.format('baby')"
   ]
  },
  {
   "cell_type": "code",
   "execution_count": 5,
   "metadata": {},
   "outputs": [
    {
     "data": {
      "text/plain": [
       "'Hello, baby, 你真漂亮, 真 聪明'"
      ]
     },
     "execution_count": 5,
     "metadata": {},
     "output_type": "execute_result"
    }
   ],
   "source": [
    "'Hello, {0}, 你真漂亮, 真 {1}'.format('baby', '聪明')"
   ]
  },
  {
   "cell_type": "markdown",
   "metadata": {},
   "source": [
    "## list 和 tuple\n",
    "### list\n",
    "- Python内置的一种数据类型，一种有序的集合，可以随时添加和删除其中的元素"
   ]
  },
  {
   "cell_type": "code",
   "execution_count": 6,
   "metadata": {},
   "outputs": [
    {
     "data": {
      "text/plain": [
       "['me', 'baby', 'wife']"
      ]
     },
     "execution_count": 6,
     "metadata": {},
     "output_type": "execute_result"
    }
   ],
   "source": [
    "family = ['me','baby','wife']\n",
    "family"
   ]
  },
  {
   "cell_type": "code",
   "execution_count": 7,
   "metadata": {},
   "outputs": [
    {
     "data": {
      "text/plain": [
       "3"
      ]
     },
     "execution_count": 7,
     "metadata": {},
     "output_type": "execute_result"
    }
   ],
   "source": [
    "len(family) #使用len()获得list元素个数"
   ]
  },
  {
   "cell_type": "code",
   "execution_count": 8,
   "metadata": {},
   "outputs": [
    {
     "data": {
      "text/plain": [
       "'me'"
      ]
     },
     "execution_count": 8,
     "metadata": {},
     "output_type": "execute_result"
    }
   ],
   "source": [
    "family[0] #可以使用索引访问list中每一个元素，索引从0开始，最后一个元素，可以用-1做索引"
   ]
  },
  {
   "cell_type": "code",
   "execution_count": 9,
   "metadata": {},
   "outputs": [
    {
     "ename": "IndexError",
     "evalue": "list index out of range",
     "output_type": "error",
     "traceback": [
      "\u001b[1;31m---------------------------------------------------------------------------\u001b[0m",
      "\u001b[1;31mIndexError\u001b[0m                                Traceback (most recent call last)",
      "\u001b[1;32m<ipython-input-9-1e7713486371>\u001b[0m in \u001b[0;36m<module>\u001b[1;34m()\u001b[0m\n\u001b[1;32m----> 1\u001b[1;33m \u001b[0mfamily\u001b[0m\u001b[1;33m[\u001b[0m\u001b[1;36m4\u001b[0m\u001b[1;33m]\u001b[0m \u001b[1;31m#索引超出范围时，Python会报Indexerror错误，\u001b[0m\u001b[1;33m\u001b[0m\u001b[0m\n\u001b[0m",
      "\u001b[1;31mIndexError\u001b[0m: list index out of range"
     ]
    }
   ],
   "source": [
    "family[4] #索引超出范围时，Python会报Indexerror错误，"
   ]
  },
  {
   "cell_type": "markdown",
   "metadata": {},
   "source": [
    "- list是一个可变的有序表，可以往list中追加元素到末尾，也可以把元素插入到指定位置"
   ]
  },
  {
   "cell_type": "code",
   "execution_count": 12,
   "metadata": {},
   "outputs": [
    {
     "data": {
      "text/plain": [
       "['me', 'huny', 'baby', 'wife', 'hellokity', 'hellokity', 'hellokity']"
      ]
     },
     "execution_count": 12,
     "metadata": {},
     "output_type": "execute_result"
    }
   ],
   "source": [
    "family.append('hellokity')\n",
    "family\n",
    "family.insert(1, 'huny')\n",
    "family"
   ]
  },
  {
   "cell_type": "code",
   "execution_count": 13,
   "metadata": {},
   "outputs": [
    {
     "data": {
      "text/plain": [
       "'hellokity'"
      ]
     },
     "execution_count": 13,
     "metadata": {},
     "output_type": "execute_result"
    }
   ],
   "source": [
    "family.pop() # 删除最后一个元素"
   ]
  },
  {
   "cell_type": "code",
   "execution_count": 14,
   "metadata": {},
   "outputs": [
    {
     "data": {
      "text/plain": [
       "['me', 'baby', 'wife', 'hellokity', 'hellokity']"
      ]
     },
     "execution_count": 14,
     "metadata": {},
     "output_type": "execute_result"
    }
   ],
   "source": [
    "family.pop(1) # 删除指定位置元素\n",
    "family"
   ]
  },
  {
   "cell_type": "code",
   "execution_count": 15,
   "metadata": {},
   "outputs": [
    {
     "data": {
      "text/plain": [
       "['I', 'baby', 'wife', 'hellokity', 'hellokity']"
      ]
     },
     "execution_count": 15,
     "metadata": {},
     "output_type": "execute_result"
    }
   ],
   "source": [
    "family[0] = 'I' # 把指定元素换成别的元素\n",
    "family"
   ]
  },
  {
   "cell_type": "markdown",
   "metadata": {},
   "source": [
    "- list 中元素的数据类型可以不同，元素可以是另一个list，如果一个list中一个元素也没有，就是一个空的list，它的长度为0"
   ]
  },
  {
   "cell_type": "markdown",
   "metadata": {},
   "source": [
    "### tuple\n",
    "- 元组，和list非常相似，但是tuple一旦初始化后就不能修改，所以它也就没有append()， insert()这样的方法，其他获取元素的方法和list都是一样的\n",
    "- 因为元组的不可变，所以代码更安全，如果可能，能用tuple代替list就尽量用tuple\n",
    "- 当定义一个tuple时，其元素就必须被确定下来"
   ]
  },
  {
   "cell_type": "code",
   "execution_count": 16,
   "metadata": {},
   "outputs": [],
   "source": [
    "t = () # 定义一个空的tuple\n",
    "t = (1,) # 只有一个元素的tuple定义时必须加一个逗号，以消除歧义，以避免误解成数学计算意义上的括号"
   ]
  },
  {
   "cell_type": "markdown",
   "metadata": {},
   "source": [
    "## 条件判断\n",
    "- 在Python中，使用if...elif...else语句实现条件判断"
   ]
  },
  {
   "cell_type": "code",
   "execution_count": 17,
   "metadata": {},
   "outputs": [
    {
     "name": "stdout",
     "output_type": "stream",
     "text": [
      "your age is 3\n",
      "teenager\n"
     ]
    }
   ],
   "source": [
    "age = 3\n",
    "if age > 18:\n",
    "    print('your age is', age)\n",
    "    print('adult')\n",
    "else:\n",
    "    print('your age is', age)\n",
    "    print('teenager')"
   ]
  },
  {
   "cell_type": "markdown",
   "metadata": {},
   "source": [
    "- input(), 读取用户输入，该函数返回str数据类型"
   ]
  },
  {
   "cell_type": "markdown",
   "metadata": {},
   "source": [
    "## 循环\n",
    "- Python循环有两种，for...in循环， while循环\n",
    "- 注意break语句，continue语句"
   ]
  },
  {
   "cell_type": "markdown",
   "metadata": {},
   "source": [
    "## dict 和 set\n",
    "### dict\n",
    "- Python 内置了字典，在其他语言中也成为map，使用键值对存储，具有极快的查找速度\n",
    "- 使用中，为避免key不存在的错误，有两种方法，一是通过in判断key是否存在，而是通过dict提供的get()方法，如果key不存在，可以返回None，或者自己指定的value\n",
    "- 删除key，使用pop()方法，对应的value也会从dict删除\n",
    "- 注意，dict内部存放的顺序和key放入的顺序是没有关系的\n",
    "- dict的key必须是不可变对象，这是因为dict根据key来计算value的存储位置，如果每次计算相同的key得出的结果不同，那dict内部就完全混乱了，这个通过key计算位置的算法称为哈希算法，在Python中，字符串，整数等都是不可变的\n",
    "\n",
    "### set\n",
    "- 与dict类似，也是一组key的集合，但不存储value，在set中，没有重复的key，set对应数学中的集合\n",
    "- 重复元素在set中被自动过滤\n",
    "- 通过add(key),remove(key)方法添加、删除元素\n",
    "- 两个set可以做数学意义上交集、并集等操作， & --> 交集， | --> 并集\n",
    "- 同dict一样，set同样不可以放入可变对象，因为无法判断两个可变对象是否相等"
   ]
  },
  {
   "cell_type": "markdown",
   "metadata": {},
   "source": [
    "## 函数\n",
    "### 函数调用\n",
    "- Python内置了许多函数， 我们可以直接调用， 要调用一个函数，需要知道函数的名称和参数，如果调用函数时传入的参数个数或参数类型不能被函数所接受，会报出TypeError错误。\n",
    "- 数据类型转换， int()、float()、str()、bool()等\n",
    "- 函数名其实就是指向一个函数对象的引用，完全可以把函数名赋给一个变量，相当于给这个函数起了一个别名"
   ]
  },
  {
   "cell_type": "code",
   "execution_count": 2,
   "metadata": {},
   "outputs": [
    {
     "data": {
      "text/plain": [
       "1"
      ]
     },
     "execution_count": 2,
     "metadata": {},
     "output_type": "execute_result"
    }
   ],
   "source": [
    "a = abs\n",
    "a(-1)"
   ]
  },
  {
   "cell_type": "markdown",
   "metadata": {},
   "source": [
    "### 定义函数\n",
    "- 定义一个函数，要使用def语句，依次写出函数名、括号、括号中的参数和冒号：，然后在缩进块中编写函数体，函数的返回值用return语句返回。\n",
    "- 如果没有return语句，函数执行完毕后也会返回结果，只是结果为None， return None可以简写为return\n",
    "- 如果想定义一个什么事也不做的空函数，可以用pass语句："
   ]
  },
  {
   "cell_type": "code",
   "execution_count": 3,
   "metadata": {},
   "outputs": [],
   "source": [
    "def nop():\n",
    "    pass"
   ]
  },
  {
   "cell_type": "markdown",
   "metadata": {},
   "source": [
    "- pass 可以用来作为占位符\n",
    "- Python函数表面上可以返回多个值，实际上这只是一种假象，Python函数返回值是一个tuple，在语法上一个tuple可以省略括号，而多个变量可以同时接收一个tuple，按位置赋给对应的值，所以Python函数返回多个值其实就是返回一个tuple，但写起来更方便"
   ]
  },
  {
   "cell_type": "markdown",
   "metadata": {},
   "source": [
    "### 函数的参数"
   ]
  },
  {
   "cell_type": "markdown",
   "metadata": {},
   "source": [
    "   Python的函数定义非常简单，但灵活度却非常大。除了正常定义的必选参数外，还可以使用默认参数、可变参数和关键字参数，使得函数定义出来的接口，不但能处理复杂的参数，还可以简化调用者的代码。\n",
    "\n",
    "#### 位置参数\n"
   ]
  },
  {
   "cell_type": "code",
   "execution_count": 1,
   "metadata": {},
   "outputs": [],
   "source": [
    "def power(x):\n",
    "    return x * x"
   ]
  },
  {
   "cell_type": "markdown",
   "metadata": {},
   "source": [
    "- 对于power(x)函数，参数x就是一个位置参数\n",
    "\n",
    "#### 默认参数"
   ]
  },
  {
   "cell_type": "code",
   "execution_count": 2,
   "metadata": {},
   "outputs": [],
   "source": [
    "def power(x, n=2):\n",
    "    s = 1\n",
    "    while n > 0:\n",
    "        n = n - 1\n",
    "        s = s * x\n",
    "    return s"
   ]
  },
  {
   "cell_type": "markdown",
   "metadata": {},
   "source": [
    "默认参数可以简化函数的调用，设置默认参数时，应注意以下几点：\n",
    "- 一是必选参数在前，默认参数灾后，否则Python解释器会报错\n",
    "- 二是如何设置默认参数， 当函数有多个参数时，把变化大的参数放前面，变化小的参数放后面，变化小的参数就可以作为默认参数\n",
    "\n",
    "- 有多个默认参数时，调用时，既可以按顺序提供默认参数，也可以不按顺序提供部分默认参数，当不按顺序提供部分默认参数时，需要把参数名写上\n",
    "- 默认参数有个最大的坑："
   ]
  },
  {
   "cell_type": "code",
   "execution_count": 3,
   "metadata": {},
   "outputs": [
    {
     "data": {
      "text/plain": [
       "[1, 2, 3, 'END']"
      ]
     },
     "execution_count": 3,
     "metadata": {},
     "output_type": "execute_result"
    }
   ],
   "source": [
    "#先定义一个函数，传入一个list，添加一个END再返回\n",
    "def add_end(L=[]):\n",
    "    L.append('END')\n",
    "    return L\n",
    "\n",
    "add_end([1,2,3])"
   ]
  },
  {
   "cell_type": "code",
   "execution_count": 4,
   "metadata": {},
   "outputs": [
    {
     "data": {
      "text/plain": [
       "['x', 'y', 'z', 'END']"
      ]
     },
     "execution_count": 4,
     "metadata": {},
     "output_type": "execute_result"
    }
   ],
   "source": [
    "add_end(['x','y','z'])"
   ]
  },
  {
   "cell_type": "code",
   "execution_count": 5,
   "metadata": {},
   "outputs": [
    {
     "data": {
      "text/plain": [
       "['END']"
      ]
     },
     "execution_count": 5,
     "metadata": {},
     "output_type": "execute_result"
    }
   ],
   "source": [
    "add_end()"
   ]
  },
  {
   "cell_type": "code",
   "execution_count": 6,
   "metadata": {},
   "outputs": [
    {
     "data": {
      "text/plain": [
       "['END', 'END']"
      ]
     },
     "execution_count": 6,
     "metadata": {},
     "output_type": "execute_result"
    }
   ],
   "source": [
    "add_end() # 第一次结果是对的，但是再次调用时，救过就不对了"
   ]
  },
  {
   "cell_type": "markdown",
   "metadata": {},
   "source": [
    "- 原因解释： Python函数在定义的时候，默认参数L的值就被计算出来了，即【】，因为参数L也是一个变量，它指向对象【】，每次调用该函数，如果改变了L的内容，则下次调用时，默认参数的内容就变了，不再是函数定义的【】了\n",
    "- 定义默认参数牢记一点： 默认参数必须指向不变对象\n",
    "- 为什么要涉及str，None这样的不变对象呢？因为不变对象一旦创建，对象内部的数据就不能修改，这样就减少了由于修改数据导致的错误，此外，由于对象不变，多任务环境下同时读取对象不需要加锁，同时读一点问题都没有，我们在编写程序时，如果可以设计一个不变对象，那就尽量设计成不变对象。\n"
   ]
  },
  {
   "cell_type": "markdown",
   "metadata": {},
   "source": [
    "#### 可变参数\n",
    "在Python中，还可以定义可变参数， 其参数个数是可变的\n",
    "- 定义可变参数和定义一个list或tuple参数相比，仅仅在参数前面加了一个*号\n",
    "- 如果已经有一个list或者tuple，要调用一个可变参数，可以在list或tuple前面加一个*号，把list或tuple的元素变成可变参数传进去"
   ]
  },
  {
   "cell_type": "markdown",
   "metadata": {},
   "source": [
    "#### 关键字参数\n",
    "可变参数允许传入0个或任意个参数，这些可变参数在函数调用时自动组装为一个tuple。而关键字参数允许传入0个或任意个含参数名的参数，这些关键字参数在函数内部自动组装为一个dict。"
   ]
  },
  {
   "cell_type": "code",
   "execution_count": 7,
   "metadata": {},
   "outputs": [
    {
     "name": "stdout",
     "output_type": "stream",
     "text": [
      "name: haibin age: 32 other: {'city': 'tianjin'}\n"
     ]
    }
   ],
   "source": [
    "def person(name, age, **kw):\n",
    "    print('name:', name, 'age:', age, 'other:', kw)\n",
    "\n",
    "person('haibin', 32, city='tianjin')"
   ]
  },
  {
   "cell_type": "code",
   "execution_count": 8,
   "metadata": {},
   "outputs": [
    {
     "name": "stdout",
     "output_type": "stream",
     "text": [
      "name: jack age: 24 other: {'job': 'Engineer', 'city': 'Tianjin'}\n"
     ]
    }
   ],
   "source": [
    "extra = {'city': 'Tianjin', 'job': 'Engineer'}\n",
    "person('jack', 24, **extra)"
   ]
  },
  {
   "cell_type": "markdown",
   "metadata": {},
   "source": [
    "#### 命名关键字参数\n",
    "- 如果呀限制关键字参数的名字，可以使用命名关键字参数，命名关键字参数需要一个特殊分隔符*,*后面的参数视为命名关键字参数"
   ]
  },
  {
   "cell_type": "code",
   "execution_count": 9,
   "metadata": {},
   "outputs": [
    {
     "name": "stdout",
     "output_type": "stream",
     "text": [
      "jack 24 tianjin engineer\n"
     ]
    }
   ],
   "source": [
    "def person(name, age, *, city, job):\n",
    "    print(name, age, city, job)\n",
    "\n",
    "person('jack', 24, city='tianjin', job='engineer')"
   ]
  },
  {
   "cell_type": "code",
   "execution_count": 10,
   "metadata": {},
   "outputs": [
    {
     "name": "stdout",
     "output_type": "stream",
     "text": [
      "jack 24 () tianjin engineer\n"
     ]
    }
   ],
   "source": [
    "# 如果函数定义中已经有了一个可变参数，后面跟着的命名关键字参数就不再需要一个特殊分隔符*了\n",
    "def person(name, age, *args, city, job):\n",
    "    print(name, age, args, city, job)\n",
    "\n",
    "person('jack', 24, city='tianjin', job='engineer')"
   ]
  },
  {
   "cell_type": "markdown",
   "metadata": {},
   "source": [
    "- 命名关键字参数必须传入参数名"
   ]
  },
  {
   "cell_type": "markdown",
   "metadata": {},
   "source": [
    "#### 参数组合\n",
    "- 在Python中定义函数，可以用必选参数，默认参数，可变参数，关键字参数，命名关键字参数，这5种参数都可以组合使用，但请注意，参数定义的顺序必须是：必选参数，默认参数，可变参数，命名关键字参数和关键字参数"
   ]
  },
  {
   "cell_type": "code",
   "execution_count": 11,
   "metadata": {},
   "outputs": [
    {
     "name": "stdout",
     "output_type": "stream",
     "text": [
      "a = 1 b = 2 c = 0 args = () kw = {}\n",
      "a = 1 b = 2 c = 3 args = () kw = {}\n",
      "a = 1 b = 2 c = 3 args = ('a', 'b') kw = {}\n",
      "a = 1 b = 2 c = 3 args = ('a', 'b') kw = {'x': 99}\n",
      "a = 1 b = 2 c = 0 d = 99 kw = {'ext': None}\n"
     ]
    }
   ],
   "source": [
    "def f1(a, b, c=0, *args, **kw):\n",
    "    print('a =', a, 'b =', b, 'c =', c, 'args =', args, 'kw =', kw)\n",
    "\n",
    "def f2(a, b, c=0, *, d, **kw):\n",
    "    print('a =', a, 'b =', b, 'c =', c, 'd =', d, 'kw =', kw)\n",
    "\n",
    "f1(1, 2)\n",
    "f1(1, 2, c=3)\n",
    "f1(1, 2, 3, 'a', 'b')\n",
    "f1(1, 2, 3, 'a', 'b', x=99)\n",
    "f2(1, 2, d=99, ext=None)"
   ]
  },
  {
   "cell_type": "markdown",
   "metadata": {},
   "source": [
    "- 对于任意函数，都可以通过类似func(*args, **kw)的形式调用它，无论它的参数是如何定义的"
   ]
  },
  {
   "cell_type": "code",
   "execution_count": 13,
   "metadata": {},
   "outputs": [
    {
     "name": "stdout",
     "output_type": "stream",
     "text": [
      "a = 1 b = 2 c = 3 args = (4,) kw = {'x': '#', 'd': 99}\n",
      "a = 1 b = 2 c = 3 d = 88 kw = {'x': '#'}\n"
     ]
    }
   ],
   "source": [
    "args = (1, 2, 3, 4)\n",
    "kw = {'d': 99, 'x': '#'}\n",
    "f1(*args, **kw)\n",
    "\n",
    "args = (1, 2, 3)\n",
    "kw = {'d': 88, 'x': '#'}\n",
    "f2(*args, **kw)"
   ]
  },
  {
   "cell_type": "markdown",
   "metadata": {},
   "source": [
    "- 虽然可以组合多达5种参数，但不要同时使用太多的组合，否则函数接口的可理解性很差"
   ]
  },
  {
   "cell_type": "markdown",
   "metadata": {},
   "source": [
    "### 递归函数\n",
    "- 在函数内部，可以调用其他函数，如果一个函数在内部调用自身，这个函数就是递归函数\n",
    "- 递归函数的优点是定义简单，逻辑清晰，理论上，所有的递归函数都可以携程循环的方式，但循环的逻辑不如递归清晰\n",
    "- 使用递归函数需要注意栈溢出。在计算机中，函数调用是通过栈（stack）这种数据结构实现的，每当进入一个函数调用，栈就会加一层栈帧，每当函数返回，栈就会减一层栈帧，由于栈的大小不是无限的，所以递归调用的次数过多，会导致栈溢出。\n",
    "- 解决栈溢出的方法是通过尾递归优化， 尾递归是指，在函数返回的时候，调用函数本身，并且， return语句不能包含表达式，这样，编译器或者解释器就可以把尾递归做优化，使递归本身无论调用多少次，都只占用一个栈帧，不会出现栈溢出情况\n",
    "- Python标准的解释器没有针对尾递归做优化，所以任何递归函数都存在栈溢出的问题"
   ]
  },
  {
   "cell_type": "markdown",
   "metadata": {},
   "source": [
    "## 高级特性\n",
    "### 切片\n",
    "- 切片（slice）操作可以很容易地取一个list或tuple的部分元素。\n",
    "\n",
    "### 迭代\n",
    "- 同过for循环遍历一个list或tuple，这种遍历称为迭代（iteration）。在Python中，迭代是通过for ... in来完成的。\n",
    "- Python的for循环不仅可以用在list或tuple上，还可以作用在其他可迭代对象上，所以当使用for循环时，只要作用于一个可迭代对象，for循环就可以正常运行，判断一个对象是否为可迭代对象："
   ]
  },
  {
   "cell_type": "code",
   "execution_count": 14,
   "metadata": {},
   "outputs": [
    {
     "data": {
      "text/plain": [
       "True"
      ]
     },
     "execution_count": 14,
     "metadata": {},
     "output_type": "execute_result"
    }
   ],
   "source": [
    "from collections import Iterable\n",
    "isinstance('abc', Iterable)"
   ]
  },
  {
   "cell_type": "code",
   "execution_count": 15,
   "metadata": {},
   "outputs": [
    {
     "name": "stdout",
     "output_type": "stream",
     "text": [
      "0 a\n",
      "1 b\n",
      "2 c\n"
     ]
    }
   ],
   "source": [
    "#python 内置的enumerate函数可以把一个list变成索引-元素对，这样就可以在for循环中同时迭代索引和元素本身：\n",
    "for i, value in enumerate(['a', 'b', 'c']):\n",
    "    print(i, value)"
   ]
  },
  {
   "cell_type": "markdown",
   "metadata": {},
   "source": [
    "### 列表生成式"
   ]
  },
  {
   "cell_type": "code",
   "execution_count": null,
   "metadata": {},
   "outputs": [],
   "source": []
  }
 ],
 "metadata": {
  "kernelspec": {
   "display_name": "Python 3",
   "language": "python",
   "name": "python3"
  },
  "language_info": {
   "codemirror_mode": {
    "name": "ipython",
    "version": 3
   },
   "file_extension": ".py",
   "mimetype": "text/x-python",
   "name": "python",
   "nbconvert_exporter": "python",
   "pygments_lexer": "ipython3",
   "version": "3.6.4"
  }
 },
 "nbformat": 4,
 "nbformat_minor": 2
}
